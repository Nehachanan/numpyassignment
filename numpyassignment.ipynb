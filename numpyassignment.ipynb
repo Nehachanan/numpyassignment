{
 "cells": [
  {
   "cell_type": "code",
   "execution_count": null,
   "id": "efdb528f-413b-4e7f-8f40-9197b4dab4ee",
   "metadata": {},
   "outputs": [],
   "source": [
    "#1. What is a Python library? Why  we use Python libraries?\n",
    "\"\"\"Python libraries are collections of reusable code modules that you can integrate into your projects to save time and effort. \n",
    " They are like a toolbox, each providing different tools that can be used to perform various tasks efficiently\"\"\"\n",
    "#Use of python Libraries ------->\n",
    "\"\"\"As we write large-size programs in Python, we want to maintain the code’s modularity.\n",
    "For the easy maintenance of the code, we split the code into different parts and we can use that code later ever we need it.\n",
    "In Python, modules play that part. Instead of using the same code in different programs and making the code complex, \n",
    "we define mostly used functions in modules and we can just simply import them in a program wherever there is a requirement.\n",
    "We don’t need to write that code but still, we can use its functionality by importing its module.\n",
    "Multiple interrelated modules are stored in a library. And whenever we need to use a module, we import it from its library.\n",
    "In Python, it’s a very simple job to do due to its easy syntax. We just need to use import.\"\"\"\n",
    "#Let’s have a look at some of the commonly used libraries:------>\n",
    "\"\"\"1.Numpy:----> The name “Numpy” stands for “Numerical Python”. It is the commonly used library. \n",
    "It is a popular machine learning library that supports large matrices and multi-dimensional data. \n",
    "It consists of in-built mathematical functions for easy computations.\n",
    "\n",
    "2.Matplotlib:---> This library is responsible for plotting numerical data. And that’s why it is used in data analysis.\n",
    "It is also an open-source library and plots high-defined figures like pie charts, histograms, scatterplots, graphs, etc.\n",
    "\n",
    "3.Pandas:---> Pandas are an important library for data scientists. It is an open-source machine learning library that provides flexible high-level data structures and a variety of analysis tools.\n",
    "It eases data analysis, data manipulation, and cleaning of data. Pandas support operations like Sorting, Re-indexing, Iteration, Concatenation, Conversion of data, Visualizations, Aggregations,etc\n",
    "\n",
    "4.SciPy:---> The name “SciPy” stands for “Scientific Python”. It is an open-source library used for high-level scientific computations.\n",
    "\n",
    "5.PyBrain: The name “PyBrain” stands for Python Based Reinforcement Learning, Artificial Intelligence, and Neural Networks library. \"\"\"\n",
    "\n",
    "#2.2. What is the difference between Numpy array and List?\n",
    "\"\"\"Numpy Array                                                           |\tPython List\n",
    "It is the core Library of python which is used for scientific computing. |\tThe core library of python provides list.\n",
    "It can contain similar datatypes.\t                                     |  It Contains different types of datatypes.\n",
    "We need to Numpy Library to access Numpy Arrays.\t                     |  It is built-in function of python.\n",
    "It is Homogeneous.\t                                                     |  It is both homogeneous and heterogeneous.\n",
    "In this Element wise operation is possible.                              |\tElement wise operation is not possible on the list.\n",
    "By using numpy.array() we can create N-Dimensional array.                |\tIt is by default 1-dimensional.In some cases, we can \n",
    "                                                                         |    create an N-Dimensional list. But it is a long process.\n",
    "It requires smaller memory consumption as compared to Python List.\t     |  It requires more memory as compared to Numpy Array.\n",
    "In this each item is stored in a sequential manner.                      |\tIt stores item in random location of  the memory.\n",
    "It is faster as compared to list.\t                                     |  It is slow as compared to NumPy Array.\n",
    "It also have some optimism function .\t                                 |  It does not have some optimism function .\"\"\"\n",
    "    \n",
    "    \n",
    "    "
   ]
  },
  {
   "cell_type": "code",
   "execution_count": null,
   "id": "cca68bd3-536f-4372-bb79-a1b61c325283",
   "metadata": {},
   "outputs": [],
   "source": [
    "import numpy as nc"
   ]
  },
  {
   "cell_type": "code",
   "execution_count": 11,
   "id": "45cae828-7339-43a3-b0ee-615c03a63239",
   "metadata": {},
   "outputs": [
    {
     "name": "stdout",
     "output_type": "stream",
     "text": [
      "(3, 4)\n",
      "12\n",
      "2\n"
     ]
    }
   ],
   "source": [
    "\"\"\"3. Find the shape, size and dimension of the following array?\"\"\"\n",
    "arr=nc.array([[1, 2, 3, 4],[5, 6, 7, 8],[9, 10, 11, 12]])\n",
    "print(arr.shape)\n",
    "print(arr.size)\n",
    "print(arr.ndim)\n"
   ]
  },
  {
   "cell_type": "code",
   "execution_count": 12,
   "id": "3d2e4ccd-a1eb-4c93-9986-5b85d9b15c6e",
   "metadata": {},
   "outputs": [
    {
     "name": "stdout",
     "output_type": "stream",
     "text": [
      "[1 2 3 4]\n"
     ]
    }
   ],
   "source": [
    "\"\"\"4. Write python code to access the first row of the following array?\n",
    "[[1, 2, 3, 4]\n",
    "[5, 6, 7, 8],\n",
    "[9, 10, 11, 12]]\"\"\"\n",
    "arr1=nc.array([[1, 2, 3, 4],[5, 6, 7, 8],[9, 10, 11, 12]])\n",
    "\n",
    "print(arr1[0])\n",
    "\n"
   ]
  },
  {
   "cell_type": "code",
   "execution_count": 13,
   "id": "17beca74-6c3b-4e04-b4b9-853585d2f020",
   "metadata": {},
   "outputs": [],
   "source": [
    "\"\"\"5. How do you access the element at the third row and fourth column from the given numpy array?\n",
    "[[1, 2, 3, 4]\n",
    "[5, 6, 7, 8],\n",
    "[9, 10, 11, 12]]\"\"\"\n",
    "arr=nc.array([[1, 2, 3, 4],[5, 6, 7, 8],[9, 10, 11, 12]])"
   ]
  },
  {
   "cell_type": "code",
   "execution_count": 15,
   "id": "ef37cdab-fd4a-4dc2-8fee-80dde7ba5aea",
   "metadata": {},
   "outputs": [
    {
     "data": {
      "text/plain": [
       "array([[ 1,  2,  3,  4],\n",
       "       [ 5,  6,  7,  8],\n",
       "       [ 9, 10, 11, 12]])"
      ]
     },
     "execution_count": 15,
     "metadata": {},
     "output_type": "execute_result"
    }
   ],
   "source": [
    "type(arr)\n",
    "arr"
   ]
  },
  {
   "cell_type": "code",
   "execution_count": 17,
   "id": "4398d584-c81f-46c7-a31e-4c95ecd8146a",
   "metadata": {},
   "outputs": [
    {
     "data": {
      "text/plain": [
       "12"
      ]
     },
     "execution_count": 17,
     "metadata": {},
     "output_type": "execute_result"
    }
   ],
   "source": [
    "arr[2][3]"
   ]
  },
  {
   "cell_type": "code",
   "execution_count": 16,
   "id": "c9c3c9e6-ff21-43d2-aecc-b339b244a31b",
   "metadata": {},
   "outputs": [
    {
     "data": {
      "text/plain": [
       "2"
      ]
     },
     "execution_count": 16,
     "metadata": {},
     "output_type": "execute_result"
    }
   ],
   "source": [
    "arr.ndim"
   ]
  },
  {
   "cell_type": "code",
   "execution_count": 10,
   "id": "cffef576-c203-47bb-bcbd-5669cac800b8",
   "metadata": {},
   "outputs": [
    {
     "data": {
      "text/plain": [
       "array([[ 1,  2,  3,  4],\n",
       "       [ 5,  6,  7,  8],\n",
       "       [ 9, 10, 11, 12]])"
      ]
     },
     "execution_count": 10,
     "metadata": {},
     "output_type": "execute_result"
    }
   ],
   "source": [
    "\"\"\"6. Write code to extract all odd-indexed elements from the given numpy array?\n",
    "\n",
    "[[1, 2, 3, 4]\n",
    "\n",
    "[5, 6, 7, 8],\n",
    "\n",
    "[9, 10, 11, 12]]\"\"\"\n",
    "\n",
    "import numpy as nc\n",
    "arr=nc.array([[1, 2, 3, 4],[5, 6, 7, 8],[9, 10, 11, 12]])\n",
    "arr"
   ]
  },
  {
   "cell_type": "code",
   "execution_count": 36,
   "id": "e36b68bc-1dc7-48a0-92b3-f5f953586beb",
   "metadata": {},
   "outputs": [
    {
     "name": "stdout",
     "output_type": "stream",
     "text": [
      "[[ 2  4]\n",
      " [ 6  8]\n",
      " [10 12]]\n"
     ]
    }
   ],
   "source": [
    "odd = arr[:, 1::2]\n",
    "print(odd)#print all odd indexed elements"
   ]
  },
  {
   "cell_type": "code",
   "execution_count": 104,
   "id": "c0297839-1b81-41e8-a3fe-c8e70c3bc862",
   "metadata": {},
   "outputs": [
    {
     "data": {
      "text/plain": [
       "array([[0.73429145, 0.69851141, 0.19523353],\n",
       "       [0.35460142, 0.20333695, 0.28964155],\n",
       "       [0.63670927, 0.68356782, 0.77848405]])"
      ]
     },
     "execution_count": 104,
     "metadata": {},
     "output_type": "execute_result"
    }
   ],
   "source": [
    "import numpy as nc\n",
    "import random\n",
    "\"7. How can you generate a random 3x3 matrix with values between 0 and 1?\"\n",
    "x= nc.random.uniform(0, 1 , size=(3,3))\n",
    "x"
   ]
  },
  {
   "cell_type": "code",
   "execution_count": null,
   "id": "00042db4-7a34-46fc-9304-56bc19b6dbc7",
   "metadata": {},
   "outputs": [],
   "source": [
    "\"\"\"8. Describe the difference between np.random.rand and np.random.randn?\"\"\"\n",
    "#The numpy.random.rand() generates random values in a given shape. It creates an array of the given shape and populate it with random samples from a uniform distribution over [0, 1).\n",
    "#On the other hand, numpy.random.random() return random floats in the half-open interval [0.0, 1.0).\n",
    "\n",
    "#Both functions generate samples from the uniform distribution on [0, 1). The only difference is in how the arguments are handled.\n",
    "#example----------------------->"
   ]
  },
  {
   "cell_type": "code",
   "execution_count": 142,
   "id": "99f25fd7-85d2-4106-80b6-c299883b89a0",
   "metadata": {},
   "outputs": [
    {
     "data": {
      "text/plain": [
       "array([[0.1741245 , 0.78016627, 0.9957118 , 0.95674522, 0.17140624],\n",
       "       [0.31133672, 0.84487602, 0.3836483 , 0.01059885, 0.92345017]])"
      ]
     },
     "execution_count": 142,
     "metadata": {},
     "output_type": "execute_result"
    }
   ],
   "source": [
    "A=nc.random.rand(2,5)  # it shows value  between 0 and 1 , all values genrated by rand is +ve\n",
    "A"
   ]
  },
  {
   "cell_type": "code",
   "execution_count": 143,
   "id": "e5ef0b02-a2b1-4b3a-bf30-905acc5e3fa3",
   "metadata": {},
   "outputs": [
    {
     "data": {
      "text/plain": [
       "array([[ 1.26505239,  1.02767739,  1.45395593, -1.58161744, -0.4039556 ],\n",
       "       [ 0.08444009,  0.95155732,  0.54341459, -0.66062749, -1.93868295]])"
      ]
     },
     "execution_count": 143,
     "metadata": {},
     "output_type": "execute_result"
    }
   ],
   "source": [
    "B=nc.random.randn(2,5)  #here randn generate  -ve values  also\n",
    "B"
   ]
  },
  {
   "cell_type": "code",
   "execution_count": null,
   "id": "302e281b-f78d-4856-905a-d6575b20345f",
   "metadata": {},
   "outputs": [],
   "source": []
  },
  {
   "cell_type": "code",
   "execution_count": null,
   "id": "9ffa2827-dcfb-4c3b-adc0-a49a3d141b3d",
   "metadata": {},
   "outputs": [],
   "source": []
  },
  {
   "cell_type": "code",
   "execution_count": 8,
   "id": "1ec4ea34-7257-4549-8351-d0cef16fa9e1",
   "metadata": {},
   "outputs": [
    {
     "data": {
      "text/plain": [
       "2"
      ]
     },
     "execution_count": 8,
     "metadata": {},
     "output_type": "execute_result"
    }
   ],
   "source": [
    "\"\"\"9. Write code to increase the dimension of the following array?\n",
    "\n",
    "[[1, 2, 3, 4]\n",
    "\n",
    "[5, 6, 7, 8],\n",
    "\n",
    "[9, 10, 11, 12]]\"\"\"\n",
    "import numpy as nc\n",
    "arry=nc.array([[1, 2, 3, 4],[5, 6, 7, 8],[9, 10, 11, 12]])\n",
    "arry\n",
    "nc.ndim(arry)\n"
   ]
  },
  {
   "cell_type": "code",
   "execution_count": 13,
   "id": "83ed421a-d0f9-487b-b9ef-f48d184b0d3f",
   "metadata": {},
   "outputs": [
    {
     "data": {
      "text/plain": [
       "3"
      ]
     },
     "execution_count": 13,
     "metadata": {},
     "output_type": "execute_result"
    }
   ],
   "source": [
    "arry=nc.array([[[1, 2, 3, 4],[5, 6, 7, 8],[9, 10, 11, 12]]])\n",
    "nc.ndim(arry)  # by adding a square bracket in given array dimension is increased"
   ]
  },
  {
   "cell_type": "code",
   "execution_count": 23,
   "id": "028a165c-70e2-4468-a132-06cfb6fee66b",
   "metadata": {},
   "outputs": [
    {
     "data": {
      "text/plain": [
       "(1, 3, 4)"
      ]
     },
     "execution_count": 23,
     "metadata": {},
     "output_type": "execute_result"
    }
   ],
   "source": [
    "arry.shape"
   ]
  },
  {
   "cell_type": "code",
   "execution_count": 18,
   "id": "0e28d68f-d6ab-4d08-ae04-2673b5e8bcd1",
   "metadata": {},
   "outputs": [],
   "source": [
    "x=nc.expand_dims(arry,axis=0) # here we increase the dimension by using expan-_dim()function ,here axis=0 is-x axis"
   ]
  },
  {
   "cell_type": "code",
   "execution_count": 20,
   "id": "f11faa89-3122-4f06-9552-0adfcf2e9645",
   "metadata": {},
   "outputs": [
    {
     "name": "stdout",
     "output_type": "stream",
     "text": [
      "[[[[ 1  2  3  4]\n",
      "   [ 5  6  7  8]\n",
      "   [ 9 10 11 12]]]]\n"
     ]
    }
   ],
   "source": [
    "print(x)"
   ]
  },
  {
   "cell_type": "code",
   "execution_count": 19,
   "id": "c1b2d255-cde7-49ee-9ff0-7493569e3eae",
   "metadata": {},
   "outputs": [
    {
     "data": {
      "text/plain": [
       "4"
      ]
     },
     "execution_count": 19,
     "metadata": {},
     "output_type": "execute_result"
    }
   ],
   "source": [
    "nc.ndim(x)"
   ]
  },
  {
   "cell_type": "code",
   "execution_count": 22,
   "id": "5acf91f6-99a7-44f9-b036-31551d569931",
   "metadata": {},
   "outputs": [
    {
     "data": {
      "text/plain": [
       "(1, 1, 3, 4)"
      ]
     },
     "execution_count": 22,
     "metadata": {},
     "output_type": "execute_result"
    }
   ],
   "source": [
    "x.shape"
   ]
  },
  {
   "cell_type": "code",
   "execution_count": 24,
   "id": "8004affa-24bf-4f8a-82ae-ca039297c9c6",
   "metadata": {},
   "outputs": [
    {
     "data": {
      "text/plain": [
       "array([[ 1,  2,  3,  4],\n",
       "       [ 5,  6,  7,  8],\n",
       "       [ 9, 10, 11, 12]])"
      ]
     },
     "execution_count": 24,
     "metadata": {},
     "output_type": "execute_result"
    }
   ],
   "source": [
    "\"\"\"10. How to transpose the following array in NumPy?\n",
    "\n",
    "[[1, 2, 3, 4]\n",
    "\n",
    "[5, 6, 7, 8],\n",
    "\n",
    "[9, 10, 11, 12]]\"\"\"\n",
    "arry1=nc.array([[1, 2, 3, 4],[5, 6, 7, 8],[9, 10, 11, 12]])\n",
    "arry1\n"
   ]
  },
  {
   "cell_type": "code",
   "execution_count": 26,
   "id": "85bd6baf-da9a-4e17-9e28-4835fca1d801",
   "metadata": {},
   "outputs": [
    {
     "data": {
      "text/plain": [
       "array([[ 1,  5,  9],\n",
       "       [ 2,  6, 10],\n",
       "       [ 3,  7, 11],\n",
       "       [ 4,  8, 12]])"
      ]
     },
     "execution_count": 26,
     "metadata": {},
     "output_type": "execute_result"
    }
   ],
   "source": [
    "arry1.T #using .T for transpose"
   ]
  },
  {
   "cell_type": "code",
   "execution_count": 29,
   "id": "4a0c7b21-0af0-49b3-ac7b-c9d7ab58c7dd",
   "metadata": {},
   "outputs": [],
   "source": [
    "\"\"\"11. Consi^er the following matrix:\n",
    "Matrix A [[1, 2, 3, 4] [5, 6, 7, 8],[9, 10, 11, 12]]\n",
    "Matrix B [[1, 2, 3, 4] [5, 6, 7, 8],[9, 10, 11, 12]]\n",
    "Perform the following operation using Python1\n",
    "1.index wise multiplication\n",
    "2.matrix multipication\n",
    "3.add both matrix\n",
    "4.subtract matrix B by A\n",
    "5. divide matrix B by A\"\"\"\n",
    "A=nc.matrix([[1, 2, 3, 4], [5, 6, 7, 8],[9, 10, 11, 12]])\n",
    "B=nc.matrix([[1, 2, 3, 4], [5, 6, 7, 8],[9, 10, 11, 12]])\n"
   ]
  },
  {
   "cell_type": "code",
   "execution_count": 30,
   "id": "b6053e82-13f2-43e8-8dd1-55f6f4e4c540",
   "metadata": {},
   "outputs": [
    {
     "data": {
      "text/plain": [
       "matrix([[ 1,  2,  3,  4],\n",
       "        [ 5,  6,  7,  8],\n",
       "        [ 9, 10, 11, 12]])"
      ]
     },
     "execution_count": 30,
     "metadata": {},
     "output_type": "execute_result"
    }
   ],
   "source": [
    "A #(3*4)"
   ]
  },
  {
   "cell_type": "code",
   "execution_count": 31,
   "id": "5cd43ef9-fe35-47b5-acb6-737463576d87",
   "metadata": {},
   "outputs": [
    {
     "data": {
      "text/plain": [
       "matrix([[ 1,  2,  3,  4],\n",
       "        [ 5,  6,  7,  8],\n",
       "        [ 9, 10, 11, 12]])"
      ]
     },
     "execution_count": 31,
     "metadata": {},
     "output_type": "execute_result"
    }
   ],
   "source": [
    "B #(3*4)"
   ]
  },
  {
   "cell_type": "code",
   "execution_count": 58,
   "id": "d093e3ad-9ff1-489a-bbf1-0693f87d2f2c",
   "metadata": {},
   "outputs": [
    {
     "name": "stdout",
     "output_type": "stream",
     "text": [
      "[[ 1  5  9]\n",
      " [ 2  6 10]\n",
      " [ 3  7 11]\n",
      " [ 4  8 12]]\n"
     ]
    }
   ],
   "source": [
    "C=B.T #here transpose the matrix B because for matrix multiplication of size( m*n ) and (p*q) here n must be equals to p\n",
    "print(C)  #(4*3) "
   ]
  },
  {
   "cell_type": "code",
   "execution_count": 59,
   "id": "cc66fb01-4830-44c7-9d86-6514b4403ee8",
   "metadata": {},
   "outputs": [
    {
     "data": {
      "text/plain": [
       "matrix([[ 30,  70, 110],\n",
       "        [ 70, 174, 278],\n",
       "        [110, 278, 446]])"
      ]
     },
     "execution_count": 59,
     "metadata": {},
     "output_type": "execute_result"
    }
   ],
   "source": [
    "A @ C #Matrix multiplication"
   ]
  },
  {
   "cell_type": "code",
   "execution_count": 53,
   "id": "bd33facb-a9f1-4fa0-9207-39c73da40d79",
   "metadata": {},
   "outputs": [
    {
     "data": {
      "text/plain": [
       "(3, 4)"
      ]
     },
     "execution_count": 53,
     "metadata": {},
     "output_type": "execute_result"
    }
   ],
   "source": [
    "nc.shape(A)"
   ]
  },
  {
   "cell_type": "code",
   "execution_count": 45,
   "id": "2f1b9d12-3076-4bc9-9bd6-0b16578fabfb",
   "metadata": {},
   "outputs": [
    {
     "data": {
      "text/plain": [
       "2"
      ]
     },
     "execution_count": 45,
     "metadata": {},
     "output_type": "execute_result"
    }
   ],
   "source": [
    "nc.ndim(A)"
   ]
  },
  {
   "cell_type": "code",
   "execution_count": 34,
   "id": "ec2d1bc5-3eeb-4d94-ba6d-63d0db9511c2",
   "metadata": {},
   "outputs": [
    {
     "data": {
      "text/plain": [
       "matrix([[  1,   4,   9,  16],\n",
       "        [ 25,  36,  49,  64],\n",
       "        [ 81, 100, 121, 144]])"
      ]
     },
     "execution_count": 34,
     "metadata": {},
     "output_type": "execute_result"
    }
   ],
   "source": [
    "nc.multiply(A,B)#index wise multiplication"
   ]
  },
  {
   "cell_type": "code",
   "execution_count": 38,
   "id": "41f60f07-f407-4745-b68a-9991e9f22667",
   "metadata": {},
   "outputs": [
    {
     "data": {
      "text/plain": [
       "matrix([[ 2,  4,  6,  8],\n",
       "        [10, 12, 14, 16],\n",
       "        [18, 20, 22, 24]])"
      ]
     },
     "execution_count": 38,
     "metadata": {},
     "output_type": "execute_result"
    }
   ],
   "source": [
    "A+B #matrix addition"
   ]
  },
  {
   "cell_type": "code",
   "execution_count": 39,
   "id": "9492eb7f-f2e2-4234-91a7-c4ca3ab758cf",
   "metadata": {},
   "outputs": [
    {
     "data": {
      "text/plain": [
       "matrix([[0, 0, 0, 0],\n",
       "        [0, 0, 0, 0],\n",
       "        [0, 0, 0, 0]])"
      ]
     },
     "execution_count": 39,
     "metadata": {},
     "output_type": "execute_result"
    }
   ],
   "source": [
    "B-A #matrix subtraction"
   ]
  },
  {
   "cell_type": "code",
   "execution_count": 40,
   "id": "1a940c50-54ca-4ad6-892e-0fe37ec6b90f",
   "metadata": {},
   "outputs": [
    {
     "data": {
      "text/plain": [
       "matrix([[1., 1., 1., 1.],\n",
       "        [1., 1., 1., 1.],\n",
       "        [1., 1., 1., 1.]])"
      ]
     },
     "execution_count": 40,
     "metadata": {},
     "output_type": "execute_result"
    }
   ],
   "source": [
    "B/A #divide matrix B by A"
   ]
  },
  {
   "cell_type": "code",
   "execution_count": 78,
   "id": "1db8dbb8-1828-49b7-9df4-cd302be24773",
   "metadata": {},
   "outputs": [
    {
     "data": {
      "text/plain": [
       "array([1, 3, 4, 5])"
      ]
     },
     "execution_count": 78,
     "metadata": {},
     "output_type": "execute_result"
    }
   ],
   "source": [
    "b=nc.array([1,3,4,5])\n",
    "b"
   ]
  },
  {
   "cell_type": "code",
   "execution_count": 129,
   "id": "643f49f6-51c3-416a-95a6-910bb8e51fd7",
   "metadata": {},
   "outputs": [
    {
     "data": {
      "text/plain": [
       "array([  1, 256,  87], dtype=int16)"
      ]
     },
     "execution_count": 129,
     "metadata": {},
     "output_type": "execute_result"
    }
   ],
   "source": [
    "\"\"\"12.  Which function in Numpy can be used to swap the byte order of an array?\"\"\"\n",
    "#“byteswap()”, function is used to swap the bytes.\n",
    "A = nc.array([1, 256, 87],dtype= nc.int16)\n",
    "A"
   ]
  },
  {
   "cell_type": "code",
   "execution_count": 130,
   "id": "0def61b1-8afa-4758-bcb6-f4b17051bac4",
   "metadata": {},
   "outputs": [
    {
     "data": {
      "text/plain": [
       "array([  256,     1, 22272], dtype=int16)"
      ]
     },
     "execution_count": 130,
     "metadata": {},
     "output_type": "execute_result"
    }
   ],
   "source": [
    "A.byteswap(inplace=True)"
   ]
  },
  {
   "cell_type": "code",
   "execution_count": 112,
   "id": "9c9d6d86-92fe-42c8-b4aa-341be22f5308",
   "metadata": {},
   "outputs": [
    {
     "name": "stdout",
     "output_type": "stream",
     "text": [
      "orignal matrix [[2 4]\n",
      " [5 6]]\n"
     ]
    }
   ],
   "source": [
    "\"\"\"13.What is the significance of the np.linalg.inv function?\"\"\"\n",
    "#We use numpy.linalg.inv() function to calculate the inverse of a matrix. The inverse of a matrix is such that if it is multiplied by the original matrix, it results inidentity matrix.\n",
    "X=nc.matrix([[2,4],[5,6]])\n",
    "print(\"orignal matrix\",X)\n"
   ]
  },
  {
   "cell_type": "code",
   "execution_count": 113,
   "id": "f4a66417-1618-41ca-ad36-be7862da1c00",
   "metadata": {},
   "outputs": [
    {
     "name": "stdout",
     "output_type": "stream",
     "text": [
      "after inverse [[-0.75   0.5  ]\n",
      " [ 0.625 -0.25 ]]\n"
     ]
    }
   ],
   "source": [
    "Y = nc.linalg.inv(X)\n",
    "print(\"after inverse\",Y)"
   ]
  },
  {
   "cell_type": "code",
   "execution_count": 85,
   "id": "88ff48f9-786b-4efe-9589-607f6e5bb695",
   "metadata": {},
   "outputs": [
    {
     "data": {
      "text/plain": [
       "array([ 0,  1,  2,  3,  4,  5,  6,  7,  8,  9, 10, 11])"
      ]
     },
     "execution_count": 85,
     "metadata": {},
     "output_type": "execute_result"
    }
   ],
   "source": [
    "\"\"\"14. What does the np.reshape function do, and how is it used?\"\"\"\n",
    "#Reshaping numpy array simply means changing the shape of the given array, shape basically tells the number of elements and dimension of array,\n",
    "#by reshaping an array we can add or remove dimensions or change number of elements in each dimension.\n",
    "sh=nc.arange(12)\n",
    "sh"
   ]
  },
  {
   "cell_type": "code",
   "execution_count": 90,
   "id": "9abc4273-9a38-43bd-8e1c-de76960a9793",
   "metadata": {},
   "outputs": [
    {
     "name": "stdout",
     "output_type": "stream",
     "text": [
      "1\n"
     ]
    }
   ],
   "source": [
    "print(sh.ndim)"
   ]
  },
  {
   "cell_type": "code",
   "execution_count": 91,
   "id": "4957581a-c3d6-4a0d-a7ee-25117ce47047",
   "metadata": {},
   "outputs": [
    {
     "data": {
      "text/plain": [
       "(12,)"
      ]
     },
     "execution_count": 91,
     "metadata": {},
     "output_type": "execute_result"
    }
   ],
   "source": [
    "sh.shape"
   ]
  },
  {
   "cell_type": "code",
   "execution_count": 98,
   "id": "99df94da-3e66-4ff3-8d03-46c1aad183d3",
   "metadata": {},
   "outputs": [
    {
     "data": {
      "text/plain": [
       "array([[[ 0,  1,  2],\n",
       "        [ 3,  4,  5]],\n",
       "\n",
       "       [[ 6,  7,  8],\n",
       "        [ 9, 10, 11]]])"
      ]
     },
     "execution_count": 98,
     "metadata": {},
     "output_type": "execute_result"
    }
   ],
   "source": [
    "x=nc.reshape(sh,(2,2,3))\n",
    "x"
   ]
  },
  {
   "cell_type": "code",
   "execution_count": 99,
   "id": "07418d5f-d13d-4c62-b5dd-7513fdf2d317",
   "metadata": {},
   "outputs": [
    {
     "data": {
      "text/plain": [
       "3"
      ]
     },
     "execution_count": 99,
     "metadata": {},
     "output_type": "execute_result"
    }
   ],
   "source": [
    "x.ndim"
   ]
  },
  {
   "cell_type": "code",
   "execution_count": 101,
   "id": "962bd45c-b559-4cfc-828b-e44a14fb17ef",
   "metadata": {},
   "outputs": [
    {
     "data": {
      "text/plain": [
       "array([[[ 0,  1],\n",
       "        [ 2,  3]],\n",
       "\n",
       "       [[ 4,  5],\n",
       "        [ 6,  7]],\n",
       "\n",
       "       [[ 8,  9],\n",
       "        [10, 11]]])"
      ]
     },
     "execution_count": 101,
     "metadata": {},
     "output_type": "execute_result"
    }
   ],
   "source": [
    "x2=nc.reshape(sh,(3,2,2))\n",
    "x2"
   ]
  },
  {
   "cell_type": "code",
   "execution_count": 102,
   "id": "39febfd8-5b58-4c07-9b54-e8200a7ff7c4",
   "metadata": {},
   "outputs": [
    {
     "data": {
      "text/plain": [
       "3"
      ]
     },
     "execution_count": 102,
     "metadata": {},
     "output_type": "execute_result"
    }
   ],
   "source": [
    "x2.ndim"
   ]
  },
  {
   "cell_type": "code",
   "execution_count": 105,
   "id": "d1dccc9c-3201-4a94-a1ff-cb2e0518f4be",
   "metadata": {},
   "outputs": [
    {
     "data": {
      "text/plain": [
       "array([[[ 0,  1,  2,  3],\n",
       "        [ 4,  5,  6,  7],\n",
       "        [ 8,  9, 10, 11]]])"
      ]
     },
     "execution_count": 105,
     "metadata": {},
     "output_type": "execute_result"
    }
   ],
   "source": [
    "x3=nc.reshape(sh,(1,3,4))\n",
    "x3"
   ]
  },
  {
   "cell_type": "code",
   "execution_count": null,
   "id": "c352f37f-fee4-478d-9c27-2a932672a38d",
   "metadata": {},
   "outputs": [],
   "source": []
  },
  {
   "cell_type": "code",
   "execution_count": 75,
   "id": "865081e5-467d-4336-b41f-a44e0e5a8550",
   "metadata": {},
   "outputs": [
    {
     "name": "stdout",
     "output_type": "stream",
     "text": [
      "[[0 0 0 0]\n",
      " [0 0 0 0]\n",
      " [0 0 0 0]]\n"
     ]
    }
   ],
   "source": [
    "\"\"\"15. What is broadcasting in Numpy?\"\"\"\n",
    "#broadcasting refers to how NumPy treats arrays with different dimensions during arithmetic operations which lead to certain constraints,\n",
    "#the smaller array is broadcast across the larger array so that they have compatible shapes.\n",
    "abrod=nc.zeros((3,4),int)\n",
    "print(abrod)"
   ]
  },
  {
   "cell_type": "code",
   "execution_count": 79,
   "id": "9c2b56cf-1abd-4d6f-9705-f45be09ca9f0",
   "metadata": {},
   "outputs": [
    {
     "data": {
      "text/plain": [
       "array([[1, 3, 4, 5],\n",
       "       [1, 3, 4, 5],\n",
       "       [1, 3, 4, 5]])"
      ]
     },
     "execution_count": 79,
     "metadata": {},
     "output_type": "execute_result"
    }
   ],
   "source": [
    "abrod+b #here array b is broadcast to array abrod"
   ]
  },
  {
   "cell_type": "code",
   "execution_count": null,
   "id": "8c31004f-c60e-4530-a8d2-033590fccd2b",
   "metadata": {},
   "outputs": [],
   "source": []
  }
 ],
 "metadata": {
  "kernelspec": {
   "display_name": "Python 3 (ipykernel)",
   "language": "python",
   "name": "python3"
  },
  "language_info": {
   "codemirror_mode": {
    "name": "ipython",
    "version": 3
   },
   "file_extension": ".py",
   "mimetype": "text/x-python",
   "name": "python",
   "nbconvert_exporter": "python",
   "pygments_lexer": "ipython3",
   "version": "3.10.8"
  }
 },
 "nbformat": 4,
 "nbformat_minor": 5
}
